{
  "nbformat": 4,
  "nbformat_minor": 0,
  "metadata": {
    "colab": {
      "provenance": []
    },
    "kernelspec": {
      "name": "python3",
      "display_name": "Python 3"
    },
    "language_info": {
      "name": "python"
    }
  },
  "cells": [
    {
      "cell_type": "markdown",
      "source": [
        "# Atividade Complementar - AP3 - Implementação da Máquina de Turing em Python\n",
        "\n",
        "> **Objetivo**: Implementar uma máquina de Turing decisora que reconheça à linguagem `x#y`, em que x e y são números denotados na linguagem unária com símbolos `I`. A máquina, além de reconhecer as palavras da linguagem especificada, deve imprimir, ao final da entrada, o resultado de `x mod y` e a palavra `ACEITA`.  Quando não for possível, deve escrever apenas a palavra `REJEITA`.\n",
        "\n",
        "## Time\n",
        "Orientadora: Elloá Guedes - [@elloa](https://github.com/elloa)\n",
        "* Gabriel Dos Santos Lima - [@gabrielSantosLima](https://github.com/gabrielSantosLima)\n",
        "* Cássia Jamilly Venâncio - [@Cassialic](https://github.com/Cassialic)\n",
        "\n"
      ],
      "metadata": {
        "id": "mbAzjZkzE-Mt"
      }
    },
    {
      "cell_type": "markdown",
      "source": [
        "## Etapa 1: Máquina de Turing no JFLAP\n",
        "\n",
        "> Alguns nomes de estados podem estar nomeados fora de ordem (numérica), mas o código na etapa seguinte segue o exato nome de estados mostrados no diagrama.\n",
        "\n",
        "A imagem a seguir mostra o diagrama para a máquina de Turing que resolve o problema apresentado. Com base neste diagrama, realizaremos a implementação em Python nas etapas posteriores.\n",
        "\n",
        "<center>\n",
        "\n",
        "![](https://github.com/uea-geral/ftc-turing-machine/blob/main/schema.jpg?raw=true)\n",
        "\n",
        "</center>"
      ],
      "metadata": {
        "id": "Z0HRbBhZFiYq"
      }
    },
    {
      "cell_type": "markdown",
      "source": [
        "## Etapa 2: Máquina de Turing em Python"
      ],
      "metadata": {
        "id": "5ASPrcOn6rWD"
      }
    },
    {
      "cell_type": "code",
      "source": [
        "class Logger:\n",
        "  def __init__(self):\n",
        "    self.logs = []\n",
        "\n",
        "  def add(self, log: str):\n",
        "    self.logs.append(log)\n",
        "\n",
        "  def show(self):\n",
        "    print(\"\\n\".join(self.logs))"
      ],
      "metadata": {
        "id": "zusOUnJkYiAI"
      },
      "execution_count": 187,
      "outputs": []
    },
    {
      "cell_type": "code",
      "source": [
        "EMPTY = '⊔'\n",
        "\n",
        "class TuringMachine:\n",
        "  def __init__(self):\n",
        "    self.tape = []\n",
        "    self.head = 0\n",
        "    self.logger = Logger()\n",
        "\n",
        "  def __reset_configurations(self):\n",
        "    self.tape = []\n",
        "    self.head = 0\n",
        "\n",
        "  def __get_tape(self):\n",
        "    # for better visualization, we are removing EMPTY symbol of tape\n",
        "    sanitized_tape = [c for c in self.tape if c != EMPTY]\n",
        "    return \"\".join(sanitized_tape)\n",
        "\n",
        "  def __current_is(self, symbol: str):\n",
        "    return self.tape[self.head] == symbol\n",
        "\n",
        "  def __register_tape_configuration(self):\n",
        "    merged_tape = self.__get_tape()\n",
        "    if self.head == 0:\n",
        "      self.logger.add(f\">{merged_tape}\")\n",
        "    else:\n",
        "      self.logger.add(f\"{merged_tape[:self.head-1]}>{merged_tape[self.head:]}\")\n",
        "\n",
        "  def __move_left(self):\n",
        "    self.head -= 1\n",
        "    self.__register_tape_configuration()\n",
        "\n",
        "  def __move_right(self):\n",
        "    self.head += 1\n",
        "    self.__register_tape_configuration()\n",
        "\n",
        "  def __write(self, symbol: str):\n",
        "    self.tape[self.head] = symbol\n",
        "\n",
        "  # =================== CHECKING VALIDATION ===================\n",
        "  def q0(self):\n",
        "    if self.__current_is('I'):\n",
        "      self.__move_right()\n",
        "      self.q34()\n",
        "    elif self.__current_is('#'):\n",
        "      self.__move_right()\n",
        "      self.q32()\n",
        "\n",
        "  def q32(self):\n",
        "    if self.__current_is(EMPTY):\n",
        "      self.__write(' ')\n",
        "      self.__move_right()\n",
        "      self.q_reject()\n",
        "    elif self.__current_is('#') or self.__current_is('I'):\n",
        "      self.__move_right()\n",
        "      self.q32()\n",
        "\n",
        "  def q34(self):\n",
        "    if self.__current_is('I'):\n",
        "      self.__move_right()\n",
        "      self.q34()\n",
        "    elif self.__current_is('#'):\n",
        "      self.__move_right()\n",
        "      self.q35()\n",
        "    elif self.__current_is(EMPTY):\n",
        "      self.__write(' ')\n",
        "      self.__move_right()\n",
        "      self.q_reject()\n",
        "\n",
        "  def q35(self):\n",
        "    if self.__current_is('I'):\n",
        "      self.__move_right()\n",
        "      self.q1()\n",
        "    elif self.__current_is(EMPTY):\n",
        "      self.__write(' ')\n",
        "      self.__move_right()\n",
        "      self.q_reject()\n",
        "\n",
        "  def q1(self):\n",
        "    if self.__current_is('I'):\n",
        "      self.__move_right()\n",
        "      self.q1()\n",
        "    elif self.__current_is('#'):\n",
        "      self.__move_right()\n",
        "      self.q2()\n",
        "    elif self.__current_is(EMPTY):\n",
        "      self.__move_left()\n",
        "      self.q3()\n",
        "\n",
        "  def q2(self):\n",
        "    if self.__current_is('#') or self.__current_is('I'):\n",
        "      self.__move_right()\n",
        "      self.q2()\n",
        "    elif self.__current_is(EMPTY):\n",
        "      self.__write(' ')\n",
        "      self.__move_right()\n",
        "      self.q_reject()\n",
        "\n",
        "  # =================== CALCULATING MOD ===================\n",
        "  def q3(self):\n",
        "    if self.__current_is('I'):\n",
        "      self.__move_left()\n",
        "      self.q3()\n",
        "    elif self.__current_is('#'):\n",
        "      self.__move_left()\n",
        "      self.q4()\n",
        "\n",
        "  def q4(self):\n",
        "    if self.__current_is('X'):\n",
        "      self.__move_left()\n",
        "      self.q4()\n",
        "    elif self.__current_is('I'):\n",
        "      self.__write('X')\n",
        "      self.__move_right()\n",
        "      self.q5()\n",
        "    elif self.__current_is(EMPTY):\n",
        "      self.__move_right()\n",
        "      self.q10()\n",
        "\n",
        "  def q5(self):\n",
        "    if self.__current_is('X'):\n",
        "      self.__move_right()\n",
        "      self.q5()\n",
        "    elif self.__current_is('#'):\n",
        "      self.__move_right()\n",
        "      self.q6()\n",
        "\n",
        "  def q6(self):\n",
        "    if self.__current_is('X'):\n",
        "      self.__move_right()\n",
        "      self.q6()\n",
        "    elif self.__current_is('I'):\n",
        "      self.__write('X')\n",
        "      self.__move_left()\n",
        "      self.q7()\n",
        "    elif self.__current_is(EMPTY):\n",
        "      self.__move_left()\n",
        "      self.q8()\n",
        "\n",
        "  def q7(self):\n",
        "    if self.__current_is('X'):\n",
        "      self.__move_left()\n",
        "      self.q7()\n",
        "    elif self.__current_is('#'):\n",
        "      self.__move_left()\n",
        "      self.q4()\n",
        "\n",
        "  def q8(self):\n",
        "    if self.__current_is('X'):\n",
        "      self.__write('I')\n",
        "      self.__move_left()\n",
        "      self.q8()\n",
        "    elif self.__current_is('#'):\n",
        "      self.__move_right()\n",
        "      self.q9()\n",
        "\n",
        "  def q9(self):\n",
        "    if self.__current_is('I'):\n",
        "      self.__write('X')\n",
        "      self.__move_left()\n",
        "      self.q16()\n",
        "\n",
        "  def q16(self):\n",
        "    if self.__current_is('#'):\n",
        "      self.__move_left()\n",
        "      self.q4()\n",
        "\n",
        "\n",
        "  # =================== MOVING MOD TO THE END OF THE TAPE ===================\n",
        "  def q10(self):\n",
        "    if self.__current_is('X'):\n",
        "      self.__write('I')\n",
        "      self.__move_right()\n",
        "      self.q10()\n",
        "    elif self.__current_is('#'):\n",
        "      self.__move_right()\n",
        "      self.q33()\n",
        "\n",
        "  def q11(self):\n",
        "    if self.__current_is('I') or self.__current_is('X'):\n",
        "      self.__move_right()\n",
        "      self.q11()\n",
        "    elif self.__current_is(EMPTY):\n",
        "      self.__write('=')\n",
        "      self.__move_left()\n",
        "      self.q12()\n",
        "\n",
        "  def q12(self):\n",
        "    if self.__current_is('I'):\n",
        "      self.__move_left()\n",
        "      self.q12()\n",
        "    elif self.__current_is('X'):\n",
        "      self.__write('I')\n",
        "      self.__move_right()\n",
        "      self.q13()\n",
        "    elif self.__current_is('#'):\n",
        "      self.__move_right()\n",
        "      self.q15()\n",
        "\n",
        "  def q13(self):\n",
        "    if self.__current_is('=') or self.__current_is('X') or self.__current_is('I'):\n",
        "      self.__move_right()\n",
        "      self.q13()\n",
        "    elif self.__current_is(EMPTY):\n",
        "      self.__write('X')\n",
        "      self.__move_left()\n",
        "      self.q14()\n",
        "\n",
        "  def q14(self):\n",
        "    if self.__current_is('X'):\n",
        "      self.__move_left()\n",
        "      self.q14()\n",
        "    elif self.__current_is('='):\n",
        "      self.__move_left()\n",
        "      self.q12()\n",
        "\n",
        "  def q15(self):\n",
        "    if self.__current_is('=') or self.__current_is('I'):\n",
        "      self.__move_right()\n",
        "      self.q15()\n",
        "    elif self.__current_is('X'):\n",
        "      self.__write('I')\n",
        "      self.__move_right()\n",
        "      self.q15()\n",
        "    elif self.__current_is(EMPTY):\n",
        "      self.__write(' ')\n",
        "      self.__move_right()\n",
        "      self.q_accept()\n",
        "\n",
        "  def q33(self):\n",
        "    if self.__current_is('X'):\n",
        "      self.__move_right()\n",
        "      self.q33()\n",
        "    elif self.__current_is('I'):\n",
        "      self.__move_right()\n",
        "      self.q11()\n",
        "    elif self.__current_is(EMPTY):\n",
        "      self.__write('=')\n",
        "      self.__move_left()\n",
        "      self.q37()\n",
        "\n",
        "  def q36(self):\n",
        "    if self.__current_is(EMPTY):\n",
        "      self.__write(' ')\n",
        "      self.__move_right()\n",
        "      self.q_accept()\n",
        "\n",
        "  def q37(self):\n",
        "    if self.__current_is('X'):\n",
        "      self.__write('I')\n",
        "      self.__move_left()\n",
        "      self.q37()\n",
        "    elif self.__current_is('#'):\n",
        "      self.__move_right()\n",
        "      self.q38()\n",
        "\n",
        "  def q38(self):\n",
        "    if self.__current_is('I'):\n",
        "      self.__move_right()\n",
        "      self.q38()\n",
        "    elif self.__current_is('='):\n",
        "      self.__move_right()\n",
        "      self.q36()\n",
        "\n",
        "  # =================== ACCEPTING WORD ===================\n",
        "  def q_accept(self):\n",
        "    self.__write('A')\n",
        "    self.__move_right()\n",
        "    self.__write('C')\n",
        "    self.__move_right()\n",
        "    self.__write('E')\n",
        "    self.__move_right()\n",
        "    self.__write('I')\n",
        "    self.__move_right()\n",
        "    self.__write('T')\n",
        "    self.__move_right()\n",
        "    self.__write('A')\n",
        "    self.__move_right()\n",
        "\n",
        "  # =================== REJECTING WORD ===================\n",
        "  def q_reject(self):\n",
        "    self.__write('R')\n",
        "    self.__move_right()\n",
        "    self.__write('E')\n",
        "    self.__move_right()\n",
        "    self.__write('J')\n",
        "    self.__move_right()\n",
        "    self.__write('E')\n",
        "    self.__move_right()\n",
        "    self.__write('I')\n",
        "    self.__move_right()\n",
        "    self.__write('T')\n",
        "    self.__move_right()\n",
        "    self.__write('A')\n",
        "    self.__move_right()\n",
        "\n",
        "\n",
        "  def compute(self, w: str, verbose=False):\n",
        "    self.__reset_configurations()\n",
        "\n",
        "    # initialing tape...\n",
        "    self.tape.append(EMPTY)\n",
        "    for character in w:\n",
        "      self.tape.append(character)\n",
        "    self.tape.append(EMPTY)\n",
        "    self.tape.append(EMPTY)\n",
        "    self.tape.append(EMPTY)\n",
        "    self.tape.append(EMPTY)\n",
        "    self.tape.append(EMPTY)\n",
        "    self.tape.append(EMPTY)\n",
        "    self.tape.append(EMPTY)\n",
        "    self.tape.append(EMPTY)\n",
        "    self.tape.append(EMPTY)\n",
        "    self.tape.append(EMPTY)\n",
        "    self.tape.append(EMPTY)\n",
        "    self.tape.append(EMPTY) # adding multiple empty values\n",
        "    self.logger.add(f\"[INIT] {self.__get_tape()}\")\n",
        "\n",
        "    # computing...\n",
        "    self.__move_right()\n",
        "    self.q0()\n",
        "\n",
        "    if verbose:\n",
        "      self.logger.show()\n",
        "\n",
        "    return self.__get_tape()"
      ],
      "metadata": {
        "id": "0R8R7tU3F1vK"
      },
      "execution_count": 188,
      "outputs": []
    },
    {
      "cell_type": "markdown",
      "source": [
        "## Etapa 3: Testes\n",
        "\n",
        "> **IMPORTANTE**: Para visualizar os _logs_ dos movimentos do cabeçote, passar para a função `TuringMachine.computate()` o parâmetro **verbose=True**. Para melhor visualização do resultado final, optamos por deixar com valor falso por padrão.\n",
        "\n",
        "A seguir testaremos várias palavras distintas, dentre as quais as que foram apresentadas no enunciado deste projeto:\n",
        "\n",
        "<center>\n",
        "\n",
        "|Entrada|Saída Esperada|\n",
        "|-------|--------------|\n",
        "|IIIIIII#III|IIIIIII#III=I ACEITA|\n",
        "|I#I#I#|I#I#I# REJEITA|\n",
        "|IIIIIII#IIII|IIIIIII#IIII=III ACEITA|\n",
        "|IIIIIIIII#IIIII|IIIIIIIII#IIIII=IIII ACEITA|\n",
        "|IIIIIIIIIIIIII|IIIIIIIIIIIIII REJEITA|\n",
        "\n",
        "</center>\n",
        "\n",
        "\n",
        "Antes de testá-los, criaremos uma função de utilidade para execução dos testes:"
      ],
      "metadata": {
        "id": "OZMxcl7BFuwb"
      }
    },
    {
      "cell_type": "code",
      "source": [
        "def expect(output, expected):\n",
        "  if output != expected:\n",
        "    raise Exception(f\"[TEST FAILED] \\nExpected: {expected}\\nReceived: {output}\")\n",
        "  print(f\"Output: {output}\")\n",
        "  print(\"Success!\")"
      ],
      "metadata": {
        "id": "bxvlh5VqStsj"
      },
      "execution_count": 189,
      "outputs": []
    },
    {
      "cell_type": "code",
      "source": [
        "tm = TuringMachine()"
      ],
      "metadata": {
        "id": "VxXaE6R0F1Pi"
      },
      "execution_count": 190,
      "outputs": []
    },
    {
      "cell_type": "code",
      "source": [
        "expect(tm.compute(\"IIIIIII#III\"), \"IIIIIII#III=I ACEITA\")"
      ],
      "metadata": {
        "colab": {
          "base_uri": "https://localhost:8080/"
        },
        "id": "JrCeaGxzSTEf",
        "outputId": "c10731c5-bc0a-4b04-a3e5-8fb4e0d1f540"
      },
      "execution_count": 191,
      "outputs": [
        {
          "output_type": "stream",
          "name": "stdout",
          "text": [
            "Output: IIIIIII#III=I ACEITA\n",
            "Success!\n"
          ]
        }
      ]
    },
    {
      "cell_type": "code",
      "source": [
        "expect(tm.compute(\"I#I#I#\"), \"I#I#I# REJEITA\")"
      ],
      "metadata": {
        "colab": {
          "base_uri": "https://localhost:8080/"
        },
        "id": "Z_utUe75TyA8",
        "outputId": "c771f540-739d-4dd7-c378-a62703ff79e9"
      },
      "execution_count": 192,
      "outputs": [
        {
          "output_type": "stream",
          "name": "stdout",
          "text": [
            "Output: I#I#I# REJEITA\n",
            "Success!\n"
          ]
        }
      ]
    },
    {
      "cell_type": "code",
      "source": [
        "expect(tm.compute(\"IIIIIII#IIII\"), \"IIIIIII#IIII=III ACEITA\")"
      ],
      "metadata": {
        "id": "3cwopcHXU6Ad",
        "colab": {
          "base_uri": "https://localhost:8080/"
        },
        "outputId": "b7eff3b7-c6f3-46b0-8a8c-f33585090580"
      },
      "execution_count": 193,
      "outputs": [
        {
          "output_type": "stream",
          "name": "stdout",
          "text": [
            "Output: IIIIIII#IIII=III ACEITA\n",
            "Success!\n"
          ]
        }
      ]
    },
    {
      "cell_type": "code",
      "source": [
        "expect(tm.compute(\"IIIIIIIII#IIIII\"), \"IIIIIIIII#IIIII=IIII ACEITA\")"
      ],
      "metadata": {
        "id": "hPU-ASvAU_LG",
        "colab": {
          "base_uri": "https://localhost:8080/"
        },
        "outputId": "07f4a758-001f-4451-b780-55a3bbf90e01"
      },
      "execution_count": 194,
      "outputs": [
        {
          "output_type": "stream",
          "name": "stdout",
          "text": [
            "Output: IIIIIIIII#IIIII=IIII ACEITA\n",
            "Success!\n"
          ]
        }
      ]
    },
    {
      "cell_type": "code",
      "source": [
        "expect(tm.compute(\"IIIIIIIIIIIIII\"), \"IIIIIIIIIIIIII REJEITA\")"
      ],
      "metadata": {
        "id": "a_iwavGsVPKN",
        "colab": {
          "base_uri": "https://localhost:8080/"
        },
        "outputId": "0c4aa369-9a04-4ec4-df6f-959e1545d6b0"
      },
      "execution_count": 195,
      "outputs": [
        {
          "output_type": "stream",
          "name": "stdout",
          "text": [
            "Output: IIIIIIIIIIIIII REJEITA\n",
            "Success!\n"
          ]
        }
      ]
    },
    {
      "cell_type": "markdown",
      "source": [
        "Além disso, outros cenários foram explorados, os quais foram testados a seguir:"
      ],
      "metadata": {
        "id": "waMP3XYVwz3j"
      }
    },
    {
      "cell_type": "code",
      "source": [
        "expect(tm.compute(\"IIII#II\"), \"IIII#II= ACEITA\")"
      ],
      "metadata": {
        "colab": {
          "base_uri": "https://localhost:8080/"
        },
        "id": "XxbGyQ20eHEf",
        "outputId": "426c56cf-e55b-49b0-fa6c-766e66a7ee51"
      },
      "execution_count": 196,
      "outputs": [
        {
          "output_type": "stream",
          "name": "stdout",
          "text": [
            "Output: IIII#II= ACEITA\n",
            "Success!\n"
          ]
        }
      ]
    },
    {
      "cell_type": "code",
      "source": [
        "expect(tm.compute(\"IIII#\"), \"IIII# REJEITA\")"
      ],
      "metadata": {
        "colab": {
          "base_uri": "https://localhost:8080/"
        },
        "id": "_Z2dgLIdtCUS",
        "outputId": "303cd8e2-0ab6-4e6f-cafa-0121680027ac"
      },
      "execution_count": 197,
      "outputs": [
        {
          "output_type": "stream",
          "name": "stdout",
          "text": [
            "Output: IIII# REJEITA\n",
            "Success!\n"
          ]
        }
      ]
    },
    {
      "cell_type": "code",
      "source": [
        "expect(tm.compute(\"#\"), \"# REJEITA\")"
      ],
      "metadata": {
        "colab": {
          "base_uri": "https://localhost:8080/"
        },
        "id": "Cz2u-yZztdvZ",
        "outputId": "050abd01-3fd7-4de1-8767-0d6757091c40"
      },
      "execution_count": 198,
      "outputs": [
        {
          "output_type": "stream",
          "name": "stdout",
          "text": [
            "Output: # REJEITA\n",
            "Success!\n"
          ]
        }
      ]
    },
    {
      "cell_type": "code",
      "source": [
        "expect(tm.compute(\"#I\"), \"#I REJEITA\")"
      ],
      "metadata": {
        "colab": {
          "base_uri": "https://localhost:8080/"
        },
        "id": "OKYe5bS_wK8Z",
        "outputId": "0bed551a-70f7-4ce1-ecb4-449d7d92a8c2"
      },
      "execution_count": 199,
      "outputs": [
        {
          "output_type": "stream",
          "name": "stdout",
          "text": [
            "Output: #I REJEITA\n",
            "Success!\n"
          ]
        }
      ]
    }
  ]
}